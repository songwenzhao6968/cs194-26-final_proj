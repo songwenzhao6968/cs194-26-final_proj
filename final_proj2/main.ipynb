{
 "cells": [
  {
   "cell_type": "code",
   "execution_count": 1,
   "id": "3f936acb",
   "metadata": {},
   "outputs": [],
   "source": [
    "## Import Section\n",
    "\n",
    "import cv2\n",
    "import numpy as np\n",
    "import matplotlib.pyplot as plt\n",
    "import skimage as sk\n",
    "import skimage.io as skio\n",
    "from gif_maker import make_gif\n",
    "from math import sqrt\n",
    "\n",
    "import itertools\n",
    "import sys\n",
    "import os"
   ]
  },
  {
   "cell_type": "code",
   "execution_count": 2,
   "id": "a6ba5dad",
   "metadata": {},
   "outputs": [],
   "source": [
    "## Defining Basic Functions\n",
    "\n",
    "def plotgray(im, cmap='gray'):\n",
    "    fig = plt.figure()\n",
    "    plt.imshow(im, cmap=cmap)\n",
    "    plt.show()\n",
    "\n",
    "def plot3ch(im):\n",
    "    fig = plt.figure()\n",
    "    plt.imshow(im)\n",
    "    plt.show()\n",
    "\n",
    "def resize(im, scale):\n",
    "    h, w = im.shape[:2]\n",
    "    return sk.transform.resize(im, (int(h*scale), int(w*scale)))\n",
    "\n",
    "# shift an image `tj` to the right, `ti` down\n",
    "def shift(im, ti, tj):\n",
    "    return np.roll(im, (ti, tj), axis=(0, 1))\n",
    "\n",
    "# translate an image `tx` to the right, `ty` down\n",
    "def translate(im, tx, ty):\n",
    "    h, w = im.shape[:2]\n",
    "    mat = translation_matrix = np.array([\n",
    "        [1, 0, tx],\n",
    "        [0, 1, ty]\n",
    "    ], dtype=np.float32)\n",
    "    return cv2.warpAffine(im, mat, (w, h))\n",
    "\n",
    "def normalize_clip(im):\n",
    "    return np.minimum(np.maximum(im, 0), 1)\n",
    "\n",
    "def normalize(im):\n",
    "    return (im-np.min(im))/(np.max(im)-np.min(im))\n",
    "\n",
    "def rgb2gray(rgb):\n",
    "    return rgb.dot([0.2989, 0.5870, 0.1140])\n",
    "\n",
    "# crop the borders of a given image by `ratio` percent\n",
    "def crop_with_percent(im, ratio=0.4):\n",
    "    h, w = im.shape[:2]\n",
    "    return im[int(h*(ratio/2)):int(h*(1-ratio/2)), int(w*(ratio/2)):int(w*(1-ratio/2))]"
   ]
  },
  {
   "cell_type": "code",
   "execution_count": 3,
   "id": "d7dc2fe3",
   "metadata": {},
   "outputs": [],
   "source": [
    "# achieving both Depth Refocusing and Aperture Adjustment\n",
    "def refocusing(ims, us, vs, idx, C, aperture_size=1.): # Note that aperture size is relative, and default is full\n",
    "    \n",
    "    im = np.zeros(ims[0].shape)\n",
    "    uc, vc = us[idx[8, 8]], vs[idx[8, 8]]\n",
    "    \n",
    "    # compute the maximum absolute aperture size\n",
    "    mx = 0.\n",
    "    for i in range(0, 17):\n",
    "        for j in range(0, 17):\n",
    "            ui, vi = us[idx[i, j]], vs[idx[i, j]]\n",
    "            mx = max((vi-vc)**2+(ui-uc)**2, mx)\n",
    "    mx = sqrt(mx)\n",
    "    \n",
    "    # loop over the aperture\n",
    "    cnt = 0\n",
    "    for i in range(0, 17):\n",
    "        for j in range(0, 17):\n",
    "            imi, ui, vi = ims[idx[i, j]], us[idx[i, j]], vs[idx[i, j]]\n",
    "            if sqrt((vi-vc)**2+(ui-uc)**2)/mx > aperture_size:\n",
    "                continue\n",
    "            # shift the sub-aperture images and average them\n",
    "            im += translate(imi, C*(vi-vc), C*(ui-uc))\n",
    "            cnt += 1\n",
    "\n",
    "    im /= cnt\n",
    "    return im"
   ]
  },
  {
   "cell_type": "code",
   "execution_count": 16,
   "id": "0b855611",
   "metadata": {},
   "outputs": [],
   "source": [
    "## sample 1\n",
    "\n",
    "input_dir = \"./sample1\"\n",
    "output_dir = \"./output/sample1\"\n",
    "\n",
    "# load the images\n",
    "ims, us, vs = [], [], []\n",
    "idx, tot = np.ndarray((17, 17), dtype=int), 0\n",
    "for file_name in os.listdir(input_dir):\n",
    "    im = sk.img_as_float(skio.imread(os.path.join(input_dir, file_name)))\n",
    "    file_rt_name, _ = os.path.splitext(file_name)\n",
    "    rdl = file_rt_name.strip().split('_')\n",
    "    r, c, u, v = int(rdl[1]), int(rdl[2]), float(rdl[3]), float(rdl[4])\n",
    "    ims.append(im); us.append(u); vs.append(v)\n",
    "    idx[r, c] = tot\n",
    "    tot += 1"
   ]
  },
  {
   "cell_type": "code",
   "execution_count": 15,
   "id": "c4f004fb",
   "metadata": {},
   "outputs": [],
   "source": [
    "# directly averaging all images\n",
    "im = refocusing(ims, us, vs, idx, 0.)\n",
    "plt.imsave(os.path.join(output_dir, \"sum.jpg\"), im)"
   ]
  },
  {
   "cell_type": "code",
   "execution_count": 18,
   "id": "cc40436d",
   "metadata": {},
   "outputs": [],
   "source": [
    "# refocusing\n",
    "num_frames, frame_folder_name = 0, \"frame_folder_pt1\"\n",
    "os.makedirs(os.path.join(output_dir, frame_folder_name), exist_ok=True)\n",
    "for i, C in enumerate(np.arange(-0.2, 0.7, 0.02)):\n",
    "    im = refocusing(ims, us, vs, idx, C)\n",
    "    plt.imsave(os.path.join(output_dir, frame_folder_name, f\"{i}.jpg\"), resize(im, 0.3))\n",
    "    num_frames += 1\n",
    "make_gif(output_dir, frame_folder_name, num_frames, \"pt1.gif\", duration=60)"
   ]
  },
  {
   "cell_type": "code",
   "execution_count": 6,
   "id": "04a46994",
   "metadata": {},
   "outputs": [],
   "source": [
    "# aperture adjustment\n",
    "num_frames, frame_folder_name = 0, \"frame_folder_pt2\"\n",
    "os.makedirs(os.path.join(output_dir, frame_folder_name), exist_ok=True)\n",
    "for i, r in enumerate(np.arange(0.1, 1.05, 0.05)):\n",
    "    im = refocusing(ims, us, vs, idx, 0.1, r)\n",
    "    plt.imsave(os.path.join(output_dir, frame_folder_name, f\"{i}.jpg\"), resize(im, 0.5))\n",
    "    num_frames += 1\n",
    "make_gif(output_dir, frame_folder_name, num_frames, \"pt2.gif\", duration=100)"
   ]
  },
  {
   "cell_type": "code",
   "execution_count": 7,
   "id": "f8835bb4",
   "metadata": {},
   "outputs": [],
   "source": [
    "## sample 2\n",
    "\n",
    "input_dir = \"./sample2\"\n",
    "output_dir = \"./output/sample2\"\n",
    "\n",
    "# load the images\n",
    "ims, us, vs = [], [], []\n",
    "idx, tot = np.ndarray((17, 17), dtype=int), 0\n",
    "for file_name in os.listdir(input_dir):\n",
    "    im = sk.img_as_float(skio.imread(os.path.join(input_dir, file_name)))\n",
    "    file_rt_name, _ = os.path.splitext(file_name)\n",
    "    rdl = file_rt_name.strip().split('_')\n",
    "    r, c, u, v = int(rdl[1]), int(rdl[2]), float(rdl[3]), float(rdl[4])\n",
    "    ims.append(im); us.append(u); vs.append(v)\n",
    "    idx[r, c] = tot\n",
    "    tot += 1"
   ]
  },
  {
   "cell_type": "code",
   "execution_count": 10,
   "id": "21889839",
   "metadata": {},
   "outputs": [],
   "source": [
    "# refocusing\n",
    "num_frames, frame_folder_name = 0, \"frame_folder_pt1\"\n",
    "os.makedirs(os.path.join(output_dir, frame_folder_name), exist_ok=True)\n",
    "for i, C in enumerate(np.arange(-0.6, 0.1, 0.02)):\n",
    "    im = refocusing(ims, us, vs, idx, C)\n",
    "    plt.imsave(os.path.join(output_dir, frame_folder_name, f\"{i}.jpg\"), resize(im, 1.))\n",
    "    num_frames += 1\n",
    "make_gif(output_dir, frame_folder_name, num_frames, \"pt1.gif\", duration=60)"
   ]
  },
  {
   "cell_type": "code",
   "execution_count": 12,
   "id": "b8489db6",
   "metadata": {},
   "outputs": [],
   "source": [
    "# aperture adjustment\n",
    "num_frames, frame_folder_name = 0, \"frame_folder_pt2\"\n",
    "os.makedirs(os.path.join(output_dir, frame_folder_name), exist_ok=True)\n",
    "for i, r in enumerate(np.arange(0.1, 1.05, 0.05)):\n",
    "    im = refocusing(ims, us, vs, idx, -0.1, r)\n",
    "    plt.imsave(os.path.join(output_dir, frame_folder_name, f\"{i}.jpg\"), resize(im, 1.))\n",
    "    num_frames += 1\n",
    "make_gif(output_dir, frame_folder_name, num_frames, \"pt2.gif\", duration=100)"
   ]
  },
  {
   "cell_type": "code",
   "execution_count": null,
   "id": "b213d18f",
   "metadata": {},
   "outputs": [],
   "source": []
  }
 ],
 "metadata": {
  "kernelspec": {
   "display_name": "Python 3 (ipykernel)",
   "language": "python",
   "name": "python3"
  },
  "language_info": {
   "codemirror_mode": {
    "name": "ipython",
    "version": 3
   },
   "file_extension": ".py",
   "mimetype": "text/x-python",
   "name": "python",
   "nbconvert_exporter": "python",
   "pygments_lexer": "ipython3",
   "version": "3.9.13"
  }
 },
 "nbformat": 4,
 "nbformat_minor": 5
}
